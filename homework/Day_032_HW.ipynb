{
 "cells": [
  {
   "cell_type": "markdown",
   "metadata": {},
   "source": [
    "作業 1：目標\n",
    "語音到語音翻譯系統在過去幾十年中得到了發展，其目標是幫助說不同語言的人們相互交流"
   ]
  },
  {
   "cell_type": "markdown",
   "metadata": {},
   "source": [
    "作業 2：方法\n",
    "將源光譜圖作為輸入並生成目標語言中的翻譯內容的光譜圖。它還使用了另外兩個經過單獨訓練的組件：神經聲碼器將輸出頻譜圖轉換為時域波形，並且可選地，可以使用揚聲器編碼器來保持合成的翻譯語音中源說話者的語音的特徵"
   ]
  },
  {
   "cell_type": "markdown",
   "metadata": {},
   "source": [
    "作業 3：資料來源 \n",
    "https://ai.googleblog.com/"
   ]
  }
 ],
 "metadata": {
  "kernelspec": {
   "display_name": "Python 3",
   "language": "python",
   "name": "python3"
  },
  "language_info": {
   "codemirror_mode": {
    "name": "ipython",
    "version": 3
   },
   "file_extension": ".py",
   "mimetype": "text/x-python",
   "name": "python",
   "nbconvert_exporter": "python",
   "pygments_lexer": "ipython3",
   "version": "3.6.5"
  }
 },
 "nbformat": 4,
 "nbformat_minor": 2
}
