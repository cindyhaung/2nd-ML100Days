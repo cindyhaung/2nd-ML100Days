{
  "nbformat": 4,
  "nbformat_minor": 0,
  "metadata": {
    "colab": {
      "name": "Day_071_使用損失函數_HW.ipynb",
      "version": "0.3.2",
      "provenance": []
    },
    "kernelspec": {
      "name": "python3",
      "display_name": "Python 3"
    }
  },
  "cells": [
    {
      "cell_type": "markdown",
      "metadata": {
        "id": "be_2zfPW7R06",
        "colab_type": "text"
      },
      "source": [
        "作業目標:\n",
        "1. 藉由固定的 dataset, 來驗證不同loss function\n",
        "2. Dataset 的特性跟我們選用的loss function 對accrancy 的影響\n",
        "\n",
        "\n",
        "作業重點:\n",
        "請分別選用 \"MSE\", \"binary _crossentropy\"\n",
        "查看Train/test accurancy and loss rate\n",
        "導入必要的函數"
      ]
    },
    {
      "cell_type": "code",
      "metadata": {
        "id": "6EAjHfJ66_pa",
        "colab_type": "code",
        "colab": {
          "base_uri": "https://localhost:8080/",
          "height": 35
        },
        "outputId": "0a75368f-8f80-4e8f-f8a2-6a7158304301"
      },
      "source": [
        "from keras.datasets import cifar10\n",
        "import numpy as np\n",
        "np.random.seed(10)"
      ],
      "execution_count": 1,
      "outputs": [
        {
          "output_type": "stream",
          "text": [
            "Using TensorFlow backend.\n"
          ],
          "name": "stderr"
        }
      ]
    },
    {
      "cell_type": "markdown",
      "metadata": {
        "id": "xZ8VyWUy7WXx",
        "colab_type": "text"
      },
      "source": [
        "資料準備"
      ]
    },
    {
      "cell_type": "code",
      "metadata": {
        "id": "MBqfucRx7X_R",
        "colab_type": "code",
        "colab": {}
      },
      "source": [
        "#取得Keras Dataset\n",
        "(x_img_train,y_label_train),(x_img_test,y_label_test)=cifar10.load_data()"
      ],
      "execution_count": 0,
      "outputs": []
    },
    {
      "cell_type": "code",
      "metadata": {
        "id": "L4xx8PQG7elJ",
        "colab_type": "code",
        "colab": {
          "base_uri": "https://localhost:8080/",
          "height": 52
        },
        "outputId": "84bf25e6-5d9e-4c00-cddb-a57b2887509b"
      },
      "source": [
        "#確認 CIFAR10 Dataset 資料維度\n",
        "print(\"train data:\",'images:',x_img_train.shape,\n",
        "      \" labels:\",y_label_train.shape) \n",
        "print(\"test  data:\",'images:',x_img_test.shape ,\n",
        "      \" labels:\",y_label_test.shape)"
      ],
      "execution_count": 3,
      "outputs": [
        {
          "output_type": "stream",
          "text": [
            "train data: images: (50000, 32, 32, 3)  labels: (50000, 1)\n",
            "test  data: images: (10000, 32, 32, 3)  labels: (10000, 1)\n"
          ],
          "name": "stdout"
        }
      ]
    },
    {
      "cell_type": "code",
      "metadata": {
        "id": "o6OZIP847es4",
        "colab_type": "code",
        "colab": {}
      },
      "source": [
        "#資料正規化\n",
        "x_img_train_normalize = x_img_train.astype('float32') / 255.0\n",
        "x_img_test_normalize = x_img_test.astype('float32') / 255.0"
      ],
      "execution_count": 0,
      "outputs": []
    },
    {
      "cell_type": "code",
      "metadata": {
        "id": "_ePFWwKD7evL",
        "colab_type": "code",
        "colab": {
          "base_uri": "https://localhost:8080/",
          "height": 35
        },
        "outputId": "b4d1f010-a8f2-41b6-f744-0918aaa479a9"
      },
      "source": [
        "#針對Label 做 ONE HOT ENCODE\n",
        "from keras.utils import np_utils\n",
        "y_label_train_OneHot = np_utils.to_categorical(y_label_train)\n",
        "y_label_test_OneHot = np_utils.to_categorical(y_label_test)\n",
        "y_label_test_OneHot.shape"
      ],
      "execution_count": 5,
      "outputs": [
        {
          "output_type": "execute_result",
          "data": {
            "text/plain": [
              "(10000, 10)"
            ]
          },
          "metadata": {
            "tags": []
          },
          "execution_count": 5
        }
      ]
    },
    {
      "cell_type": "markdown",
      "metadata": {
        "id": "DOJBbpKn7jxi",
        "colab_type": "text"
      },
      "source": [
        "建立模型"
      ]
    },
    {
      "cell_type": "code",
      "metadata": {
        "id": "GfdXbaly7exo",
        "colab_type": "code",
        "colab": {}
      },
      "source": [
        "from keras.models import Sequential\n",
        "from keras.layers import Dense, Dropout, Activation, Flatten\n",
        "from keras.layers import Conv2D, MaxPooling2D, ZeroPadding2D"
      ],
      "execution_count": 0,
      "outputs": []
    },
    {
      "cell_type": "code",
      "metadata": {
        "id": "Q8GHJRKt7kjB",
        "colab_type": "code",
        "colab": {
          "base_uri": "https://localhost:8080/",
          "height": 89
        },
        "outputId": "816a6094-8474-4a5c-9d0d-577da20eaf93"
      },
      "source": [
        "model = Sequential()"
      ],
      "execution_count": 7,
      "outputs": [
        {
          "output_type": "stream",
          "text": [
            "WARNING: Logging before flag parsing goes to stderr.\n",
            "W0707 14:55:10.681041 139788733986688 deprecation_wrapper.py:119] From /usr/local/lib/python3.6/dist-packages/keras/backend/tensorflow_backend.py:74: The name tf.get_default_graph is deprecated. Please use tf.compat.v1.get_default_graph instead.\n",
            "\n"
          ],
          "name": "stderr"
        }
      ]
    },
    {
      "cell_type": "code",
      "metadata": {
        "id": "ZZ1PiW8H7klI",
        "colab_type": "code",
        "colab": {}
      },
      "source": [
        "# 卷積層1"
      ],
      "execution_count": 0,
      "outputs": []
    },
    {
      "cell_type": "code",
      "metadata": {
        "id": "YEfw3wFs7pw6",
        "colab_type": "code",
        "colab": {
          "base_uri": "https://localhost:8080/",
          "height": 107
        },
        "outputId": "4642b8f6-6ae3-4064-d55a-381eba97a418"
      },
      "source": [
        "model.add(Conv2D(filters=32,kernel_size=(3,3),\n",
        "                 input_shape=(32, 32,3), \n",
        "                 activation='relu', \n",
        "                 padding='same'))"
      ],
      "execution_count": 9,
      "outputs": [
        {
          "output_type": "stream",
          "text": [
            "W0707 14:55:25.688676 139788733986688 deprecation_wrapper.py:119] From /usr/local/lib/python3.6/dist-packages/keras/backend/tensorflow_backend.py:517: The name tf.placeholder is deprecated. Please use tf.compat.v1.placeholder instead.\n",
            "\n",
            "W0707 14:55:25.694006 139788733986688 deprecation_wrapper.py:119] From /usr/local/lib/python3.6/dist-packages/keras/backend/tensorflow_backend.py:4138: The name tf.random_uniform is deprecated. Please use tf.random.uniform instead.\n",
            "\n"
          ],
          "name": "stderr"
        }
      ]
    },
    {
      "cell_type": "code",
      "metadata": {
        "id": "F83FAOSg7s3x",
        "colab_type": "code",
        "colab": {
          "base_uri": "https://localhost:8080/",
          "height": 124
        },
        "outputId": "5b22e509-36c7-4c5f-df8f-2bb77453f3cb"
      },
      "source": [
        "model.add(Dropout(rate=0.25))"
      ],
      "execution_count": 10,
      "outputs": [
        {
          "output_type": "stream",
          "text": [
            "W0707 14:55:34.026670 139788733986688 deprecation_wrapper.py:119] From /usr/local/lib/python3.6/dist-packages/keras/backend/tensorflow_backend.py:133: The name tf.placeholder_with_default is deprecated. Please use tf.compat.v1.placeholder_with_default instead.\n",
            "\n",
            "W0707 14:55:34.041306 139788733986688 deprecation.py:506] From /usr/local/lib/python3.6/dist-packages/keras/backend/tensorflow_backend.py:3445: calling dropout (from tensorflow.python.ops.nn_ops) with keep_prob is deprecated and will be removed in a future version.\n",
            "Instructions for updating:\n",
            "Please use `rate` instead of `keep_prob`. Rate should be set to `rate = 1 - keep_prob`.\n"
          ],
          "name": "stderr"
        }
      ]
    },
    {
      "cell_type": "code",
      "metadata": {
        "id": "2UVZcdMO7s6I",
        "colab_type": "code",
        "colab": {
          "base_uri": "https://localhost:8080/",
          "height": 72
        },
        "outputId": "79443a15-5e6d-4dbd-ad00-1d1ed206f567"
      },
      "source": [
        "model.add(MaxPooling2D(pool_size=(2, 2)))"
      ],
      "execution_count": 11,
      "outputs": [
        {
          "output_type": "stream",
          "text": [
            "W0707 14:55:40.317947 139788733986688 deprecation_wrapper.py:119] From /usr/local/lib/python3.6/dist-packages/keras/backend/tensorflow_backend.py:3976: The name tf.nn.max_pool is deprecated. Please use tf.nn.max_pool2d instead.\n",
            "\n"
          ],
          "name": "stderr"
        }
      ]
    },
    {
      "cell_type": "code",
      "metadata": {
        "id": "sF8PApFC7s9E",
        "colab_type": "code",
        "colab": {}
      },
      "source": [
        "#卷積層2與池化層2"
      ],
      "execution_count": 0,
      "outputs": []
    },
    {
      "cell_type": "code",
      "metadata": {
        "id": "Hn1gkxPw7wKR",
        "colab_type": "code",
        "colab": {}
      },
      "source": [
        "model.add(Conv2D(filters=64, kernel_size=(3, 3), \n",
        "                 activation='relu', padding='same'))"
      ],
      "execution_count": 0,
      "outputs": []
    },
    {
      "cell_type": "code",
      "metadata": {
        "id": "j7Oavc1G7wMq",
        "colab_type": "code",
        "colab": {}
      },
      "source": [
        "model.add(Dropout(0.25))"
      ],
      "execution_count": 0,
      "outputs": []
    },
    {
      "cell_type": "code",
      "metadata": {
        "id": "OEJwOe0v7y_B",
        "colab_type": "code",
        "colab": {}
      },
      "source": [
        "model.add(MaxPooling2D(pool_size=(2, 2)))"
      ],
      "execution_count": 0,
      "outputs": []
    },
    {
      "cell_type": "code",
      "metadata": {
        "id": "LTJrVno17zBo",
        "colab_type": "code",
        "colab": {}
      },
      "source": [
        "#建立神經網路(平坦層、隱藏層、輸出層)"
      ],
      "execution_count": 0,
      "outputs": []
    },
    {
      "cell_type": "code",
      "metadata": {
        "id": "C7odBowJ71nZ",
        "colab_type": "code",
        "colab": {}
      },
      "source": [
        "model.add(Flatten())\n",
        "model.add(Dropout(rate=0.25))"
      ],
      "execution_count": 0,
      "outputs": []
    },
    {
      "cell_type": "code",
      "metadata": {
        "id": "Bh3re8u271pu",
        "colab_type": "code",
        "colab": {}
      },
      "source": [
        "model.add(Dense(1024, activation='relu'))\n",
        "model.add(Dropout(rate=0.25))"
      ],
      "execution_count": 0,
      "outputs": []
    },
    {
      "cell_type": "code",
      "metadata": {
        "id": "-nKRkE_r74V6",
        "colab_type": "code",
        "colab": {}
      },
      "source": [
        "model.add(Dense(10, activation='softmax'))"
      ],
      "execution_count": 0,
      "outputs": []
    },
    {
      "cell_type": "code",
      "metadata": {
        "id": "ZxU8A6D-76C5",
        "colab_type": "code",
        "colab": {
          "base_uri": "https://localhost:8080/",
          "height": 537
        },
        "outputId": "b02eddeb-d148-4af1-a43a-d2e198a749e2"
      },
      "source": [
        "#檢查model 的STACK\n",
        "print(model.summary())"
      ],
      "execution_count": 20,
      "outputs": [
        {
          "output_type": "stream",
          "text": [
            "_________________________________________________________________\n",
            "Layer (type)                 Output Shape              Param #   \n",
            "=================================================================\n",
            "conv2d_1 (Conv2D)            (None, 32, 32, 32)        896       \n",
            "_________________________________________________________________\n",
            "dropout_1 (Dropout)          (None, 32, 32, 32)        0         \n",
            "_________________________________________________________________\n",
            "max_pooling2d_1 (MaxPooling2 (None, 16, 16, 32)        0         \n",
            "_________________________________________________________________\n",
            "conv2d_2 (Conv2D)            (None, 16, 16, 64)        18496     \n",
            "_________________________________________________________________\n",
            "dropout_2 (Dropout)          (None, 16, 16, 64)        0         \n",
            "_________________________________________________________________\n",
            "max_pooling2d_2 (MaxPooling2 (None, 8, 8, 64)          0         \n",
            "_________________________________________________________________\n",
            "flatten_1 (Flatten)          (None, 4096)              0         \n",
            "_________________________________________________________________\n",
            "dropout_3 (Dropout)          (None, 4096)              0         \n",
            "_________________________________________________________________\n",
            "dense_1 (Dense)              (None, 1024)              4195328   \n",
            "_________________________________________________________________\n",
            "dropout_4 (Dropout)          (None, 1024)              0         \n",
            "_________________________________________________________________\n",
            "dense_2 (Dense)              (None, 10)                10250     \n",
            "=================================================================\n",
            "Total params: 4,224,970\n",
            "Trainable params: 4,224,970\n",
            "Non-trainable params: 0\n",
            "_________________________________________________________________\n",
            "None\n"
          ],
          "name": "stdout"
        }
      ]
    },
    {
      "cell_type": "markdown",
      "metadata": {
        "id": "-MATUk8i79kS",
        "colab_type": "text"
      },
      "source": [
        "載入之前訓練的模型"
      ]
    },
    {
      "cell_type": "code",
      "metadata": {
        "id": "tij8yKCE76FU",
        "colab_type": "code",
        "colab": {
          "base_uri": "https://localhost:8080/",
          "height": 35
        },
        "outputId": "069a9080-a391-49b0-9c40-8d835bf8a679"
      },
      "source": [
        "try:\n",
        "    model.load_weights(\"SaveModel/cifarCnnModel.h5\")\n",
        "    print(\"載入模型成功!繼續訓練模型\")\n",
        "except :    \n",
        "    print(\"載入模型失敗!開始訓練一個新模型\")"
      ],
      "execution_count": 21,
      "outputs": [
        {
          "output_type": "stream",
          "text": [
            "載入模型失敗!開始訓練一個新模型\n"
          ],
          "name": "stdout"
        }
      ]
    },
    {
      "cell_type": "markdown",
      "metadata": {
        "id": "lEfAGIMG8BEd",
        "colab_type": "text"
      },
      "source": [
        "\n",
        "訓練模型\n",
        "MSE"
      ]
    },
    {
      "cell_type": "code",
      "metadata": {
        "id": "q36pCoiM8CsQ",
        "colab_type": "code",
        "colab": {
          "base_uri": "https://localhost:8080/",
          "height": 89
        },
        "outputId": "6d144c64-6946-49fb-e4d6-e801c720fa6a"
      },
      "source": [
        "model.compile(loss='MSE', optimizer='sgd', metrics=['accuracy'])\n",
        "\n",
        "'''\n",
        "作業:\n",
        "請分別選用 \"MSE\", \"binary _crossentropy\"\n",
        "查看Train/test accurancy and loss rate\n",
        "'''"
      ],
      "execution_count": 22,
      "outputs": [
        {
          "output_type": "stream",
          "text": [
            "W0707 14:57:32.219598 139788733986688 deprecation_wrapper.py:119] From /usr/local/lib/python3.6/dist-packages/keras/optimizers.py:790: The name tf.train.Optimizer is deprecated. Please use tf.compat.v1.train.Optimizer instead.\n",
            "\n"
          ],
          "name": "stderr"
        },
        {
          "output_type": "execute_result",
          "data": {
            "text/plain": [
              "'\\n作業:\\n請分別選用 \"MSE\", \"binary _crossentropy\"\\n查看Train/test accurancy and loss rate\\n'"
            ]
          },
          "metadata": {
            "tags": []
          },
          "execution_count": 22
        }
      ]
    },
    {
      "cell_type": "code",
      "metadata": {
        "id": "iPVE3_AY8CxJ",
        "colab_type": "code",
        "colab": {
          "base_uri": "https://localhost:8080/",
          "height": 505
        },
        "outputId": "9fccfabd-9fe9-4302-b820-094dd1a1641d"
      },
      "source": [
        "#模型訓練, \"Train_History\" 把訓練過程所得到的數值存起來\n",
        "train_history=model.fit(x_img_train_normalize, y_label_train_OneHot,\n",
        "                        validation_split=0.25,\n",
        "                        epochs=12, batch_size=128, verbose=1)         \n",
        "\n",
        "#[validation_split = 0.2] validation_split：在0和1之間浮動。用作驗證數據的訓練數據的分數。\n",
        "#該模型將訓練數據的這一部分分開，不會對其進行訓練，並將在每個時期結束時評估該數據的損失和任何模型指標。\n",
        "#[batch_size]：整數或None。每個梯度更新的樣本數。指定，batch_size為128"
      ],
      "execution_count": 23,
      "outputs": [
        {
          "output_type": "stream",
          "text": [
            "W0707 14:57:41.466696 139788733986688 deprecation_wrapper.py:119] From /usr/local/lib/python3.6/dist-packages/keras/backend/tensorflow_backend.py:986: The name tf.assign_add is deprecated. Please use tf.compat.v1.assign_add instead.\n",
            "\n"
          ],
          "name": "stderr"
        },
        {
          "output_type": "stream",
          "text": [
            "Train on 37500 samples, validate on 12500 samples\n",
            "Epoch 1/12\n",
            "37500/37500 [==============================] - 110s 3ms/step - loss: 0.0904 - acc: 0.1085 - val_loss: 0.0898 - val_acc: 0.1318\n",
            "Epoch 2/12\n",
            "37500/37500 [==============================] - 111s 3ms/step - loss: 0.0901 - acc: 0.1086 - val_loss: 0.0897 - val_acc: 0.1395\n",
            "Epoch 3/12\n",
            "37500/37500 [==============================] - 110s 3ms/step - loss: 0.0899 - acc: 0.1182 - val_loss: 0.0897 - val_acc: 0.1427\n",
            "Epoch 4/12\n",
            "37500/37500 [==============================] - 108s 3ms/step - loss: 0.0898 - acc: 0.1220 - val_loss: 0.0896 - val_acc: 0.1502\n",
            "Epoch 5/12\n",
            "37500/37500 [==============================] - 110s 3ms/step - loss: 0.0897 - acc: 0.1262 - val_loss: 0.0895 - val_acc: 0.1574\n",
            "Epoch 6/12\n",
            "37500/37500 [==============================] - 108s 3ms/step - loss: 0.0896 - acc: 0.1322 - val_loss: 0.0895 - val_acc: 0.1663\n",
            "Epoch 7/12\n",
            "37500/37500 [==============================] - 109s 3ms/step - loss: 0.0895 - acc: 0.1392 - val_loss: 0.0894 - val_acc: 0.1726\n",
            "Epoch 8/12\n",
            "37500/37500 [==============================] - 109s 3ms/step - loss: 0.0894 - acc: 0.1433 - val_loss: 0.0893 - val_acc: 0.1809\n",
            "Epoch 9/12\n",
            "37500/37500 [==============================] - 109s 3ms/step - loss: 0.0893 - acc: 0.1477 - val_loss: 0.0892 - val_acc: 0.1899\n",
            "Epoch 10/12\n",
            "37500/37500 [==============================] - 110s 3ms/step - loss: 0.0891 - acc: 0.1539 - val_loss: 0.0892 - val_acc: 0.1936\n",
            "Epoch 11/12\n",
            "37500/37500 [==============================] - 109s 3ms/step - loss: 0.0890 - acc: 0.1593 - val_loss: 0.0891 - val_acc: 0.1999\n",
            "Epoch 12/12\n",
            "37500/37500 [==============================] - 110s 3ms/step - loss: 0.0888 - acc: 0.1639 - val_loss: 0.0890 - val_acc: 0.2043\n"
          ],
          "name": "stdout"
        }
      ]
    },
    {
      "cell_type": "code",
      "metadata": {
        "id": "2iseHxHU8Cz2",
        "colab_type": "code",
        "colab": {}
      },
      "source": [
        "import matplotlib.pyplot as plt\n",
        "%matplotlib inline\n",
        "\n",
        "#定義一個繪圖函數\n",
        "def show_train_history(train_acc,test_acc):\n",
        "    plt.plot(train_history.history[train_acc])\n",
        "    plt.plot(train_history.history[test_acc])\n",
        "    plt.title('MSE Train History')\n",
        "    plt.ylabel('Accuracy')\n",
        "    plt.xlabel('Epoch')\n",
        "    plt.legend(['train_acc', 'val_acc'], loc='upper left')\n",
        "    plt.show()"
      ],
      "execution_count": 0,
      "outputs": []
    },
    {
      "cell_type": "code",
      "metadata": {
        "id": "cRDM2cGf8C2e",
        "colab_type": "code",
        "colab": {
          "base_uri": "https://localhost:8080/",
          "height": 295
        },
        "outputId": "bc1a1bc5-9c21-4e58-c21e-ceea84c0d509"
      },
      "source": [
        "show_train_history('acc','val_acc')"
      ],
      "execution_count": 25,
      "outputs": [
        {
          "output_type": "display_data",
          "data": {
            "image/png": "[encoded data removed]",
            "text/plain": [
              "<Figure size 432x288 with 1 Axes>"
            ]
          },
          "metadata": {
            "tags": []
          }
        }
      ]
    },
    {
      "cell_type": "code",
      "metadata": {
        "id": "oSDyycMV8Rjr",
        "colab_type": "code",
        "colab": {
          "base_uri": "https://localhost:8080/",
          "height": 89
        },
        "outputId": "c08d91a8-3272-4ea4-b84f-f07e0f06bac6"
      },
      "source": [
        "model.compile(loss='binary_crossentropy', optimizer='sgd', metrics=['accuracy'])"
      ],
      "execution_count": 26,
      "outputs": [
        {
          "output_type": "stream",
          "text": [
            "W0707 15:19:34.991872 139788733986688 deprecation.py:323] From /usr/local/lib/python3.6/dist-packages/tensorflow/python/ops/nn_impl.py:180: add_dispatch_support.<locals>.wrapper (from tensorflow.python.ops.array_ops) is deprecated and will be removed in a future version.\n",
            "Instructions for updating:\n",
            "Use tf.where in 2.0, which has the same broadcast rule as np.where\n"
          ],
          "name": "stderr"
        }
      ]
    },
    {
      "cell_type": "code",
      "metadata": {
        "id": "nTMq4-Fp8RmO",
        "colab_type": "code",
        "colab": {
          "base_uri": "https://localhost:8080/",
          "height": 104
        },
        "outputId": "fcb6a9eb-b16b-4321-8e6b-88fb5093cc75"
      },
      "source": [
        "#模型訓練, \"Train_History\" 把訓練過程所得到的數值存起來\n",
        "train_history=model.fit(x_img_train_normalize, y_label_train_OneHot,\n",
        "                        validation_split=0.25,\n",
        "                        epochs=12, batch_size=128, verbose=1)         \n",
        "\n",
        "#[validation_split = 0.2] validation_split：在0和1之間浮動。用作驗證數據的訓練數據的分數。\n",
        "#該模型將訓練數據的這一部分分開，不會對其進行訓練，並將在每個時期結束時評估該數據的損失和任何模型指標。\n",
        "#[batch_size]：整數或None。每個梯度更新的樣本數。指定，batch_size為128"
      ],
      "execution_count": 0,
      "outputs": [
        {
          "output_type": "stream",
          "text": [
            "37500/37500 [==============================] - 106s 3ms/step - loss: 0.3172 - acc: 0.9000 - val_loss: 0.3167 - val_acc: 0.9000\n",
            "Epoch 2/12\n",
            "37500/37500 [==============================] - 105s 3ms/step - loss: 0.3129 - acc: 0.9000 - val_loss: 0.3129 - val_acc: 0.9000\n",
            "Epoch 3/12\n",
            "26624/37500 [====================>.........] - ETA: 29s - loss: 0.3082 - acc: 0.9000"
          ],
          "name": "stdout"
        }
      ]
    },
    {
      "cell_type": "code",
      "metadata": {
        "id": "MKh0rwUd8RpB",
        "colab_type": "code",
        "colab": {}
      },
      "source": [
        "#定義一個繪圖函數\n",
        "def show_train_history(train_acc,test_acc):\n",
        "    plt.plot(train_history.history[train_acc])\n",
        "    plt.plot(train_history.history[test_acc])\n",
        "    plt.title('binary _crossentropy Train History')\n",
        "    plt.ylabel('Accuracy')\n",
        "    plt.xlabel('Epoch')\n",
        "    plt.legend(['train_acc', 'val_acc'], loc='upper left')\n",
        "    plt.show()"
      ],
      "execution_count": 0,
      "outputs": []
    },
    {
      "cell_type": "code",
      "metadata": {
        "id": "aSw9wXB78W61",
        "colab_type": "code",
        "colab": {}
      },
      "source": [
        "show_train_history('acc','val_acc')"
      ],
      "execution_count": 0,
      "outputs": []
    }
  ]
}