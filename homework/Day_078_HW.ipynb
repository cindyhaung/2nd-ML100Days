{
  "nbformat": 4,
  "nbformat_minor": 0,
  "metadata": {
    "colab": {
      "name": "Day_078_HW.ipynb",
      "version": "0.3.2",
      "provenance": []
    },
    "kernelspec": {
      "name": "python3",
      "display_name": "Python 3"
    }
  },
  "cells": [
    {
      "cell_type": "markdown",
      "metadata": {
        "id": "laY2ooeypOid",
        "colab_type": "text"
      },
      "source": [
        "Work\n",
        "\n",
        "請嘗試將 preproc_x 替換成以每筆資料的 min/max 進行標準化至 -1 ~ 1 間，再進行訓練\n",
        "\n",
        "請嘗試將 mlp 疊更深 (e.g 5~10 層)，進行訓練後觀察 learning curve 的走勢\n",
        "\n",
        "(optional) 請改用 GPU 進行訓練 (如果你有 GPU 的話)，比較使用 CPU 與 GPU 的訓練速度"
      ]
    },
    {
      "cell_type": "code",
      "metadata": {
        "id": "ex5Jo2T4pJ2Z",
        "colab_type": "code",
        "colab": {
          "base_uri": "https://localhost:8080/",
          "height": 35
        },
        "outputId": "bc701bf2-326d-414d-9a9b-0352d7f18796"
      },
      "source": [
        "## \n",
        "\"\"\"\n",
        "Your code here (optional)\n",
        "確認硬體資源\n",
        "\"\"\""
      ],
      "execution_count": 1,
      "outputs": [
        {
          "output_type": "execute_result",
          "data": {
            "text/plain": [
              "'\\nYour code here (optional)\\n確認硬體資源\\n'"
            ]
          },
          "metadata": {
            "tags": []
          },
          "execution_count": 1
        }
      ]
    },
    {
      "cell_type": "code",
      "metadata": {
        "id": "IzBpAY6qpdqE",
        "colab_type": "code",
        "colab": {
          "base_uri": "https://localhost:8080/",
          "height": 35
        },
        "outputId": "ed72bd40-d6de-43d9-a227-3b95daf47318"
      },
      "source": [
        "import os\n",
        "import keras\n",
        "\n",
        "# 請嘗試設定 GPU：os.environ\n",
        "os.environ[\"CUDA_VISIBLE_DEVICES\"] = \"0\""
      ],
      "execution_count": 2,
      "outputs": [
        {
          "output_type": "stream",
          "text": [
            "Using TensorFlow backend.\n"
          ],
          "name": "stderr"
        }
      ]
    },
    {
      "cell_type": "code",
      "metadata": {
        "id": "PIjK8SKRpdss",
        "colab_type": "code",
        "colab": {}
      },
      "source": [
        "train, test = keras.datasets.cifar10.load_data()"
      ],
      "execution_count": 0,
      "outputs": []
    },
    {
      "cell_type": "code",
      "metadata": {
        "id": "al2tMUROpdvE",
        "colab_type": "code",
        "colab": {}
      },
      "source": [
        "## 資料前處理\n",
        "\"\"\"\n",
        "Your code here\n",
        "\"\"\"\n",
        "def preproc_x(x, flatten=True):\n",
        "    x = x / 255.\n",
        "    if flatten:\n",
        "        x = x.reshape((len(x), -1))\n",
        "    return x\n",
        "\n",
        "def preproc_y(y, num_classes=10):\n",
        "    if y.shape[-1] == 1:\n",
        "        y = keras.utils.to_categorical(y, num_classes)\n",
        "    return y"
      ],
      "execution_count": 0,
      "outputs": []
    },
    {
      "cell_type": "code",
      "metadata": {
        "id": "23hAaFtLpdxn",
        "colab_type": "code",
        "colab": {}
      },
      "source": [
        "x_train, y_train = train\n",
        "x_test, y_test = test\n",
        "\n",
        "# Preproc the inputs\n",
        "x_train = preproc_x(x_train)\n",
        "x_test = preproc_x(x_test)\n",
        "\n",
        "# Preprc the outputs\n",
        "y_train = preproc_y(y_train)\n",
        "y_test = preproc_y(y_test)"
      ],
      "execution_count": 0,
      "outputs": []
    },
    {
      "cell_type": "code",
      "metadata": {
        "id": "Kh4LPAp0pdzj",
        "colab_type": "code",
        "colab": {
          "base_uri": "https://localhost:8080/",
          "height": 243
        },
        "outputId": "5c36a883-3ac0-4324-f1d6-f38b1e1b5340"
      },
      "source": [
        "x_train"
      ],
      "execution_count": 7,
      "outputs": [
        {
          "output_type": "execute_result",
          "data": {
            "text/plain": [
              "array([[0.23137255, 0.24313725, 0.24705882, ..., 0.48235294, 0.36078431,\n",
              "        0.28235294],\n",
              "       [0.60392157, 0.69411765, 0.73333333, ..., 0.56078431, 0.52156863,\n",
              "        0.56470588],\n",
              "       [1.        , 1.        , 1.        , ..., 0.31372549, 0.3372549 ,\n",
              "        0.32941176],\n",
              "       ...,\n",
              "       [0.1372549 , 0.69803922, 0.92156863, ..., 0.04705882, 0.12156863,\n",
              "        0.19607843],\n",
              "       [0.74117647, 0.82745098, 0.94117647, ..., 0.76470588, 0.74509804,\n",
              "        0.67058824],\n",
              "       [0.89803922, 0.89803922, 0.9372549 , ..., 0.63921569, 0.63921569,\n",
              "        0.63137255]])"
            ]
          },
          "metadata": {
            "tags": []
          },
          "execution_count": 7
        }
      ]
    },
    {
      "cell_type": "code",
      "metadata": {
        "id": "WcZW4TnPpd2F",
        "colab_type": "code",
        "colab": {}
      },
      "source": [
        "\"\"\"Code Here\n",
        "建立你的神經網路\n",
        "\"\"\"\n",
        "def build_mlp(input_shape, output_units=10, num_neurons=[512, 256, 128, 64, 32]):\n",
        "    input_layer = keras.layers.Input(input_shape)\n",
        "    \n",
        "    for i, n_units in enumerate(num_neurons):\n",
        "        if i == 0:\n",
        "            x = keras.layers.Dense(units=n_units, activation=\"relu\", name=\"hidden_layer\"+str(i+1))(input_layer)\n",
        "        else:\n",
        "            x = keras.layers.Dense(units=n_units, activation=\"relu\", name=\"hidden_layer\"+str(i+1))(x)\n",
        "    \n",
        "    out = keras.layers.Dense(units=output_units, activation=\"softmax\", name=\"output\")(x)\n",
        "    \n",
        "    model = keras.models.Model(inputs=[input_layer], outputs=[out])\n",
        "    return model"
      ],
      "execution_count": 0,
      "outputs": []
    },
    {
      "cell_type": "code",
      "metadata": {
        "id": "qrRpZU_wpd4O",
        "colab_type": "code",
        "colab": {
          "base_uri": "https://localhost:8080/",
          "height": 523
        },
        "outputId": "5b83bdd8-be21-4a37-e9f2-08f4f310373f"
      },
      "source": [
        "model = build_mlp(input_shape=x_train.shape[1:])\n",
        "model.summary()"
      ],
      "execution_count": 9,
      "outputs": [
        {
          "output_type": "stream",
          "text": [
            "WARNING: Logging before flag parsing goes to stderr.\n",
            "W0714 13:26:11.513833 140307348584320 deprecation_wrapper.py:119] From /usr/local/lib/python3.6/dist-packages/keras/backend/tensorflow_backend.py:74: The name tf.get_default_graph is deprecated. Please use tf.compat.v1.get_default_graph instead.\n",
            "\n",
            "W0714 13:26:11.549361 140307348584320 deprecation_wrapper.py:119] From /usr/local/lib/python3.6/dist-packages/keras/backend/tensorflow_backend.py:517: The name tf.placeholder is deprecated. Please use tf.compat.v1.placeholder instead.\n",
            "\n",
            "W0714 13:26:11.560954 140307348584320 deprecation_wrapper.py:119] From /usr/local/lib/python3.6/dist-packages/keras/backend/tensorflow_backend.py:4138: The name tf.random_uniform is deprecated. Please use tf.random.uniform instead.\n",
            "\n"
          ],
          "name": "stderr"
        },
        {
          "output_type": "stream",
          "text": [
            "_________________________________________________________________\n",
            "Layer (type)                 Output Shape              Param #   \n",
            "=================================================================\n",
            "input_1 (InputLayer)         (None, 3072)              0         \n",
            "_________________________________________________________________\n",
            "hidden_layer1 (Dense)        (None, 512)               1573376   \n",
            "_________________________________________________________________\n",
            "hidden_layer2 (Dense)        (None, 256)               131328    \n",
            "_________________________________________________________________\n",
            "hidden_layer3 (Dense)        (None, 128)               32896     \n",
            "_________________________________________________________________\n",
            "hidden_layer4 (Dense)        (None, 64)                8256      \n",
            "_________________________________________________________________\n",
            "hidden_layer5 (Dense)        (None, 32)                2080      \n",
            "_________________________________________________________________\n",
            "output (Dense)               (None, 10)                330       \n",
            "=================================================================\n",
            "Total params: 1,748,266\n",
            "Trainable params: 1,748,266\n",
            "Non-trainable params: 0\n",
            "_________________________________________________________________\n"
          ],
          "name": "stdout"
        }
      ]
    },
    {
      "cell_type": "code",
      "metadata": {
        "id": "XfV1qSHGpd6n",
        "colab_type": "code",
        "colab": {}
      },
      "source": [
        "## 超參數設定\n",
        "LEARNING_RATE = 0.001\n",
        "EPOCHS = 100\n",
        "BATCH_SIZE = 256"
      ],
      "execution_count": 0,
      "outputs": []
    },
    {
      "cell_type": "code",
      "metadata": {
        "id": "-QfgyoZApd9c",
        "colab_type": "code",
        "colab": {
          "base_uri": "https://localhost:8080/",
          "height": 107
        },
        "outputId": "c2edd6c9-10a6-4c24-cd23-c003160180af"
      },
      "source": [
        "optimizer = keras.optimizers.Adam(lr=LEARNING_RATE)\n",
        "model.compile(loss=\"categorical_crossentropy\", metrics=[\"accuracy\"], optimizer=optimizer)"
      ],
      "execution_count": 11,
      "outputs": [
        {
          "output_type": "stream",
          "text": [
            "W0714 13:26:19.944118 140307348584320 deprecation_wrapper.py:119] From /usr/local/lib/python3.6/dist-packages/keras/optimizers.py:790: The name tf.train.Optimizer is deprecated. Please use tf.compat.v1.train.Optimizer instead.\n",
            "\n",
            "W0714 13:26:19.961692 140307348584320 deprecation_wrapper.py:119] From /usr/local/lib/python3.6/dist-packages/keras/backend/tensorflow_backend.py:3295: The name tf.log is deprecated. Please use tf.math.log instead.\n",
            "\n"
          ],
          "name": "stderr"
        }
      ]
    },
    {
      "cell_type": "code",
      "metadata": {
        "id": "4l22TzX2punU",
        "colab_type": "code",
        "colab": {
          "base_uri": "https://localhost:8080/",
          "height": 1000
        },
        "outputId": "508e6cbd-da5b-4d93-95b4-9d480488a266"
      },
      "source": [
        "model.fit(x_train, y_train, \n",
        "          epochs=EPOCHS, \n",
        "          batch_size=BATCH_SIZE, \n",
        "          validation_data=(x_test, y_test), \n",
        "          shuffle=True)"
      ],
      "execution_count": 12,
      "outputs": [
        {
          "output_type": "stream",
          "text": [
            "W0714 13:26:22.953459 140307348584320 deprecation.py:323] From /usr/local/lib/python3.6/dist-packages/tensorflow/python/ops/math_grad.py:1250: add_dispatch_support.<locals>.wrapper (from tensorflow.python.ops.array_ops) is deprecated and will be removed in a future version.\n",
            "Instructions for updating:\n",
            "Use tf.where in 2.0, which has the same broadcast rule as np.where\n",
            "W0714 13:26:23.126475 140307348584320 deprecation_wrapper.py:119] From /usr/local/lib/python3.6/dist-packages/keras/backend/tensorflow_backend.py:986: The name tf.assign_add is deprecated. Please use tf.compat.v1.assign_add instead.\n",
            "\n"
          ],
          "name": "stderr"
        },
        {
          "output_type": "stream",
          "text": [
            "Train on 50000 samples, validate on 10000 samples\n",
            "Epoch 1/100\n",
            "50000/50000 [==============================] - 27s 531us/step - loss: 1.9880 - acc: 0.2763 - val_loss: 1.8455 - val_acc: 0.3298\n",
            "Epoch 2/100\n",
            "50000/50000 [==============================] - 26s 514us/step - loss: 1.7444 - acc: 0.3732 - val_loss: 1.7152 - val_acc: 0.3926\n",
            "Epoch 3/100\n",
            "50000/50000 [==============================] - 26s 518us/step - loss: 1.6475 - acc: 0.4083 - val_loss: 1.5936 - val_acc: 0.4280\n",
            "Epoch 4/100\n",
            "50000/50000 [==============================] - 26s 511us/step - loss: 1.5753 - acc: 0.4384 - val_loss: 1.6460 - val_acc: 0.4152\n",
            "Epoch 5/100\n",
            "50000/50000 [==============================] - 26s 519us/step - loss: 1.5323 - acc: 0.4531 - val_loss: 1.5676 - val_acc: 0.4413\n",
            "Epoch 6/100\n",
            "50000/50000 [==============================] - 26s 516us/step - loss: 1.4883 - acc: 0.4676 - val_loss: 1.4761 - val_acc: 0.4740\n",
            "Epoch 7/100\n",
            "50000/50000 [==============================] - 25s 509us/step - loss: 1.4577 - acc: 0.4787 - val_loss: 1.4709 - val_acc: 0.4731\n",
            "Epoch 8/100\n",
            "50000/50000 [==============================] - 25s 509us/step - loss: 1.4264 - acc: 0.4920 - val_loss: 1.4578 - val_acc: 0.4813\n",
            "Epoch 9/100\n",
            "50000/50000 [==============================] - 25s 505us/step - loss: 1.3935 - acc: 0.5009 - val_loss: 1.4506 - val_acc: 0.4835\n",
            "Epoch 10/100\n",
            "50000/50000 [==============================] - 23s 455us/step - loss: 1.3717 - acc: 0.5109 - val_loss: 1.4429 - val_acc: 0.4848\n",
            "Epoch 11/100\n",
            "50000/50000 [==============================] - 26s 513us/step - loss: 1.3471 - acc: 0.5192 - val_loss: 1.4905 - val_acc: 0.4758\n",
            "Epoch 12/100\n",
            "50000/50000 [==============================] - 25s 503us/step - loss: 1.3297 - acc: 0.5238 - val_loss: 1.4537 - val_acc: 0.4825\n",
            "Epoch 13/100\n",
            "50000/50000 [==============================] - 25s 499us/step - loss: 1.3115 - acc: 0.5314 - val_loss: 1.4141 - val_acc: 0.4901\n",
            "Epoch 14/100\n",
            "50000/50000 [==============================] - 25s 496us/step - loss: 1.2862 - acc: 0.5423 - val_loss: 1.3890 - val_acc: 0.5035\n",
            "Epoch 15/100\n",
            "50000/50000 [==============================] - 25s 503us/step - loss: 1.2579 - acc: 0.5518 - val_loss: 1.3714 - val_acc: 0.5136\n",
            "Epoch 16/100\n",
            "50000/50000 [==============================] - 25s 495us/step - loss: 1.2398 - acc: 0.5587 - val_loss: 1.3635 - val_acc: 0.5195\n",
            "Epoch 17/100\n",
            "50000/50000 [==============================] - 25s 496us/step - loss: 1.2108 - acc: 0.5676 - val_loss: 1.3611 - val_acc: 0.5187\n",
            "Epoch 18/100\n",
            "50000/50000 [==============================] - 25s 509us/step - loss: 1.2014 - acc: 0.5714 - val_loss: 1.3751 - val_acc: 0.5184\n",
            "Epoch 19/100\n",
            "50000/50000 [==============================] - 25s 497us/step - loss: 1.1855 - acc: 0.5775 - val_loss: 1.3875 - val_acc: 0.5126\n",
            "Epoch 20/100\n",
            "50000/50000 [==============================] - 25s 499us/step - loss: 1.1732 - acc: 0.5818 - val_loss: 1.3978 - val_acc: 0.5147\n",
            "Epoch 21/100\n",
            "50000/50000 [==============================] - 25s 499us/step - loss: 1.1532 - acc: 0.5872 - val_loss: 1.3883 - val_acc: 0.5190\n",
            "Epoch 22/100\n",
            "50000/50000 [==============================] - 25s 503us/step - loss: 1.1239 - acc: 0.5993 - val_loss: 1.4128 - val_acc: 0.5155\n",
            "Epoch 23/100\n",
            "50000/50000 [==============================] - 25s 507us/step - loss: 1.1161 - acc: 0.6002 - val_loss: 1.4017 - val_acc: 0.5136\n",
            "Epoch 24/100\n",
            "50000/50000 [==============================] - 25s 495us/step - loss: 1.0940 - acc: 0.6093 - val_loss: 1.3832 - val_acc: 0.5255\n",
            "Epoch 25/100\n",
            "50000/50000 [==============================] - 25s 502us/step - loss: 1.0810 - acc: 0.6138 - val_loss: 1.3900 - val_acc: 0.5279\n",
            "Epoch 26/100\n",
            "50000/50000 [==============================] - 24s 489us/step - loss: 1.0607 - acc: 0.6206 - val_loss: 1.3861 - val_acc: 0.5262\n",
            "Epoch 27/100\n",
            "50000/50000 [==============================] - 25s 496us/step - loss: 1.0347 - acc: 0.6282 - val_loss: 1.4113 - val_acc: 0.5206\n",
            "Epoch 28/100\n",
            "50000/50000 [==============================] - 26s 511us/step - loss: 1.0231 - acc: 0.6333 - val_loss: 1.4136 - val_acc: 0.5189\n",
            "Epoch 29/100\n",
            "50000/50000 [==============================] - 25s 502us/step - loss: 1.0070 - acc: 0.6389 - val_loss: 1.4218 - val_acc: 0.5192\n",
            "Epoch 30/100\n",
            "50000/50000 [==============================] - 25s 494us/step - loss: 0.9939 - acc: 0.6439 - val_loss: 1.4915 - val_acc: 0.5071\n",
            "Epoch 31/100\n",
            "50000/50000 [==============================] - 25s 496us/step - loss: 0.9774 - acc: 0.6478 - val_loss: 1.4356 - val_acc: 0.5197\n",
            "Epoch 32/100\n",
            "50000/50000 [==============================] - 25s 502us/step - loss: 0.9525 - acc: 0.6585 - val_loss: 1.5261 - val_acc: 0.5086\n",
            "Epoch 33/100\n",
            "50000/50000 [==============================] - 25s 505us/step - loss: 0.9376 - acc: 0.6638 - val_loss: 1.4758 - val_acc: 0.5174\n",
            "Epoch 34/100\n",
            "50000/50000 [==============================] - 25s 497us/step - loss: 0.9152 - acc: 0.6708 - val_loss: 1.5006 - val_acc: 0.5155\n",
            "Epoch 35/100\n",
            "50000/50000 [==============================] - 25s 497us/step - loss: 0.9057 - acc: 0.6727 - val_loss: 1.5342 - val_acc: 0.5089\n",
            "Epoch 36/100\n",
            "50000/50000 [==============================] - 25s 506us/step - loss: 0.8946 - acc: 0.6776 - val_loss: 1.5906 - val_acc: 0.5133\n",
            "Epoch 37/100\n",
            "50000/50000 [==============================] - 25s 507us/step - loss: 0.8674 - acc: 0.6896 - val_loss: 1.5587 - val_acc: 0.5165\n",
            "Epoch 38/100\n",
            "50000/50000 [==============================] - 25s 501us/step - loss: 0.8526 - acc: 0.6940 - val_loss: 1.5175 - val_acc: 0.5122\n",
            "Epoch 39/100\n",
            "50000/50000 [==============================] - 25s 494us/step - loss: 0.8436 - acc: 0.6954 - val_loss: 1.5225 - val_acc: 0.5204\n",
            "Epoch 40/100\n",
            "50000/50000 [==============================] - 25s 495us/step - loss: 0.8252 - acc: 0.7026 - val_loss: 1.5694 - val_acc: 0.5142\n",
            "Epoch 41/100\n",
            "50000/50000 [==============================] - 25s 496us/step - loss: 0.7999 - acc: 0.7118 - val_loss: 1.5852 - val_acc: 0.5251\n",
            "Epoch 42/100\n",
            "50000/50000 [==============================] - 27s 530us/step - loss: 0.7956 - acc: 0.7142 - val_loss: 1.5689 - val_acc: 0.5183\n",
            "Epoch 43/100\n",
            "50000/50000 [==============================] - 26s 521us/step - loss: 0.7837 - acc: 0.7189 - val_loss: 1.6028 - val_acc: 0.5269\n",
            "Epoch 44/100\n",
            "50000/50000 [==============================] - 26s 521us/step - loss: 0.7829 - acc: 0.7187 - val_loss: 1.6048 - val_acc: 0.5248\n",
            "Epoch 45/100\n",
            "50000/50000 [==============================] - 26s 525us/step - loss: 0.7522 - acc: 0.7307 - val_loss: 1.6503 - val_acc: 0.5179\n",
            "Epoch 46/100\n",
            "50000/50000 [==============================] - 26s 523us/step - loss: 0.7377 - acc: 0.7321 - val_loss: 1.6594 - val_acc: 0.5171\n",
            "Epoch 47/100\n",
            "50000/50000 [==============================] - 26s 515us/step - loss: 0.7312 - acc: 0.7389 - val_loss: 1.6833 - val_acc: 0.5095\n",
            "Epoch 48/100\n",
            "50000/50000 [==============================] - 26s 516us/step - loss: 0.7201 - acc: 0.7406 - val_loss: 1.6709 - val_acc: 0.5275\n",
            "Epoch 49/100\n",
            "50000/50000 [==============================] - 26s 518us/step - loss: 0.7041 - acc: 0.7481 - val_loss: 1.7334 - val_acc: 0.5175\n",
            "Epoch 50/100\n",
            "50000/50000 [==============================] - 26s 512us/step - loss: 0.6943 - acc: 0.7518 - val_loss: 1.7712 - val_acc: 0.5109\n",
            "Epoch 51/100\n",
            "50000/50000 [==============================] - 26s 518us/step - loss: 0.6767 - acc: 0.7574 - val_loss: 1.8384 - val_acc: 0.5101\n",
            "Epoch 52/100\n",
            "50000/50000 [==============================] - 26s 519us/step - loss: 0.6651 - acc: 0.7615 - val_loss: 1.8553 - val_acc: 0.5135\n",
            "Epoch 53/100\n",
            "50000/50000 [==============================] - 26s 511us/step - loss: 0.6630 - acc: 0.7622 - val_loss: 1.8196 - val_acc: 0.5121\n",
            "Epoch 54/100\n",
            "50000/50000 [==============================] - 26s 511us/step - loss: 0.6343 - acc: 0.7733 - val_loss: 1.8967 - val_acc: 0.5205\n",
            "Epoch 55/100\n",
            "50000/50000 [==============================] - 25s 506us/step - loss: 0.6319 - acc: 0.7738 - val_loss: 1.8999 - val_acc: 0.5074\n",
            "Epoch 56/100\n",
            "50000/50000 [==============================] - 25s 507us/step - loss: 0.6205 - acc: 0.7765 - val_loss: 1.9129 - val_acc: 0.5124\n",
            "Epoch 57/100\n",
            "50000/50000 [==============================] - 25s 509us/step - loss: 0.6132 - acc: 0.7799 - val_loss: 1.9366 - val_acc: 0.5125\n",
            "Epoch 58/100\n",
            "50000/50000 [==============================] - 25s 508us/step - loss: 0.6004 - acc: 0.7858 - val_loss: 1.9672 - val_acc: 0.5106\n",
            "Epoch 59/100\n",
            "50000/50000 [==============================] - 25s 504us/step - loss: 0.5935 - acc: 0.7874 - val_loss: 1.9146 - val_acc: 0.5156\n",
            "Epoch 60/100\n",
            "50000/50000 [==============================] - 25s 509us/step - loss: 0.5751 - acc: 0.7921 - val_loss: 1.9829 - val_acc: 0.5208\n",
            "Epoch 61/100\n",
            "50000/50000 [==============================] - 25s 509us/step - loss: 0.5645 - acc: 0.7978 - val_loss: 1.9947 - val_acc: 0.5227\n",
            "Epoch 62/100\n",
            "50000/50000 [==============================] - 25s 509us/step - loss: 0.5583 - acc: 0.7975 - val_loss: 2.0461 - val_acc: 0.5165\n",
            "Epoch 63/100\n",
            "50000/50000 [==============================] - 25s 501us/step - loss: 0.5600 - acc: 0.7995 - val_loss: 2.0717 - val_acc: 0.5143\n",
            "Epoch 64/100\n",
            "50000/50000 [==============================] - 25s 508us/step - loss: 0.5387 - acc: 0.8048 - val_loss: 2.0671 - val_acc: 0.5202\n",
            "Epoch 65/100\n",
            "50000/50000 [==============================] - 26s 514us/step - loss: 0.5261 - acc: 0.8124 - val_loss: 2.0832 - val_acc: 0.5168\n",
            "Epoch 66/100\n",
            "50000/50000 [==============================] - 25s 510us/step - loss: 0.5200 - acc: 0.8126 - val_loss: 2.1270 - val_acc: 0.5101\n",
            "Epoch 67/100\n",
            "50000/50000 [==============================] - 25s 505us/step - loss: 0.5055 - acc: 0.8168 - val_loss: 2.2153 - val_acc: 0.5158\n",
            "Epoch 68/100\n",
            "50000/50000 [==============================] - 25s 506us/step - loss: 0.4911 - acc: 0.8246 - val_loss: 2.2248 - val_acc: 0.5076\n",
            "Epoch 69/100\n",
            "50000/50000 [==============================] - 26s 515us/step - loss: 0.4944 - acc: 0.8227 - val_loss: 2.2747 - val_acc: 0.5020\n",
            "Epoch 70/100\n",
            "50000/50000 [==============================] - 25s 510us/step - loss: 0.4843 - acc: 0.8260 - val_loss: 2.3094 - val_acc: 0.5057\n",
            "Epoch 71/100\n",
            "50000/50000 [==============================] - 26s 512us/step - loss: 0.4824 - acc: 0.8267 - val_loss: 2.2316 - val_acc: 0.5138\n",
            "Epoch 72/100\n",
            "50000/50000 [==============================] - 25s 506us/step - loss: 0.4715 - acc: 0.8315 - val_loss: 2.2837 - val_acc: 0.5065\n",
            "Epoch 73/100\n",
            "50000/50000 [==============================] - 25s 510us/step - loss: 0.4740 - acc: 0.8289 - val_loss: 2.3278 - val_acc: 0.5116\n",
            "Epoch 74/100\n",
            "50000/50000 [==============================] - 26s 516us/step - loss: 0.4697 - acc: 0.8296 - val_loss: 2.3250 - val_acc: 0.5098\n",
            "Epoch 75/100\n",
            "50000/50000 [==============================] - 25s 507us/step - loss: 0.4491 - acc: 0.8400 - val_loss: 2.4263 - val_acc: 0.5078\n",
            "Epoch 76/100\n",
            "50000/50000 [==============================] - 25s 505us/step - loss: 0.4405 - acc: 0.8426 - val_loss: 2.3653 - val_acc: 0.5072\n",
            "Epoch 77/100\n",
            "50000/50000 [==============================] - 25s 508us/step - loss: 0.4284 - acc: 0.8475 - val_loss: 2.4248 - val_acc: 0.5094\n",
            "Epoch 78/100\n",
            "50000/50000 [==============================] - 25s 508us/step - loss: 0.4405 - acc: 0.8419 - val_loss: 2.4288 - val_acc: 0.5026\n",
            "Epoch 79/100\n",
            "50000/50000 [==============================] - 26s 520us/step - loss: 0.4387 - acc: 0.8431 - val_loss: 2.5683 - val_acc: 0.5033\n",
            "Epoch 80/100\n",
            "50000/50000 [==============================] - 26s 519us/step - loss: 0.4164 - acc: 0.8494 - val_loss: 2.4271 - val_acc: 0.5095\n",
            "Epoch 81/100\n",
            "50000/50000 [==============================] - 26s 523us/step - loss: 0.4127 - acc: 0.8512 - val_loss: 2.5123 - val_acc: 0.5132\n",
            "Epoch 82/100\n",
            "50000/50000 [==============================] - 26s 518us/step - loss: 0.4024 - acc: 0.8557 - val_loss: 2.6069 - val_acc: 0.4972\n",
            "Epoch 83/100\n",
            "50000/50000 [==============================] - 26s 522us/step - loss: 0.4133 - acc: 0.8515 - val_loss: 2.4652 - val_acc: 0.5083\n",
            "Epoch 84/100\n",
            "50000/50000 [==============================] - 26s 520us/step - loss: 0.4000 - acc: 0.8557 - val_loss: 2.5051 - val_acc: 0.5104\n",
            "Epoch 85/100\n",
            "50000/50000 [==============================] - 26s 521us/step - loss: 0.4022 - acc: 0.8553 - val_loss: 2.5273 - val_acc: 0.5008\n",
            "Epoch 86/100\n",
            "50000/50000 [==============================] - 26s 514us/step - loss: 0.3866 - acc: 0.8614 - val_loss: 2.6617 - val_acc: 0.5092\n",
            "Epoch 87/100\n",
            "50000/50000 [==============================] - 26s 511us/step - loss: 0.3810 - acc: 0.8634 - val_loss: 2.7724 - val_acc: 0.5078\n",
            "Epoch 88/100\n",
            "50000/50000 [==============================] - 26s 515us/step - loss: 0.3785 - acc: 0.8635 - val_loss: 2.8673 - val_acc: 0.4969\n",
            "Epoch 89/100\n",
            "50000/50000 [==============================] - 26s 519us/step - loss: 0.3929 - acc: 0.8587 - val_loss: 2.6902 - val_acc: 0.5070\n",
            "Epoch 90/100\n",
            "50000/50000 [==============================] - 26s 514us/step - loss: 0.3315 - acc: 0.8815 - val_loss: 2.6856 - val_acc: 0.5080\n",
            "Epoch 91/100\n",
            "50000/50000 [==============================] - 26s 520us/step - loss: 0.3922 - acc: 0.8610 - val_loss: 2.8018 - val_acc: 0.4971\n",
            "Epoch 92/100\n",
            "50000/50000 [==============================] - 26s 511us/step - loss: 0.3723 - acc: 0.8671 - val_loss: 2.7950 - val_acc: 0.4956\n",
            "Epoch 93/100\n",
            "50000/50000 [==============================] - 26s 529us/step - loss: 0.3488 - acc: 0.8737 - val_loss: 2.8797 - val_acc: 0.4966\n",
            "Epoch 94/100\n",
            "50000/50000 [==============================] - 26s 520us/step - loss: 0.3321 - acc: 0.8818 - val_loss: 2.8642 - val_acc: 0.4998\n",
            "Epoch 95/100\n",
            "50000/50000 [==============================] - 26s 523us/step - loss: 0.3486 - acc: 0.8762 - val_loss: 2.8275 - val_acc: 0.4977\n",
            "Epoch 96/100\n",
            "50000/50000 [==============================] - 26s 518us/step - loss: 0.3201 - acc: 0.8856 - val_loss: 2.8006 - val_acc: 0.5036\n",
            "Epoch 97/100\n",
            "50000/50000 [==============================] - 26s 525us/step - loss: 0.3576 - acc: 0.8704 - val_loss: 2.7810 - val_acc: 0.4923\n",
            "Epoch 98/100\n",
            "50000/50000 [==============================] - 26s 520us/step - loss: 0.3462 - acc: 0.8750 - val_loss: 2.8445 - val_acc: 0.4984\n",
            "Epoch 99/100\n",
            "50000/50000 [==============================] - 27s 530us/step - loss: 0.3098 - acc: 0.8894 - val_loss: 2.9528 - val_acc: 0.5091\n",
            "Epoch 100/100\n",
            "50000/50000 [==============================] - 26s 520us/step - loss: 0.3449 - acc: 0.8763 - val_loss: 2.8707 - val_acc: 0.4965\n"
          ],
          "name": "stdout"
        },
        {
          "output_type": "execute_result",
          "data": {
            "text/plain": [
              "<keras.callbacks.History at 0x7f9b9faa1fd0>"
            ]
          },
          "metadata": {
            "tags": []
          },
          "execution_count": 12
        }
      ]
    },
    {
      "cell_type": "code",
      "metadata": {
        "id": "6AiD9JrhpuqB",
        "colab_type": "code",
        "colab": {
          "base_uri": "https://localhost:8080/",
          "height": 545
        },
        "outputId": "02c9e7cc-ddea-4684-de08-3f311140665e"
      },
      "source": [
        "import matplotlib.pyplot as plt\n",
        "\n",
        "\n",
        "train_loss = model.history.history[\"loss\"]\n",
        "valid_loss = model.history.history[\"val_loss\"]\n",
        "\n",
        "train_acc = model.history.history[\"acc\"]\n",
        "valid_acc = model.history.history[\"val_acc\"]\n",
        "\n",
        "plt.plot(range(len(train_loss)), train_loss, label=\"train loss\")\n",
        "plt.plot(range(len(valid_loss)), valid_loss, label=\"valid loss\")\n",
        "plt.legend()\n",
        "plt.title(\"Loss\")\n",
        "plt.show()\n",
        "\n",
        "plt.plot(range(len(train_acc)), train_acc, label=\"train accuracy\")\n",
        "plt.plot(range(len(valid_acc)), valid_acc, label=\"valid accuracy\")\n",
        "plt.legend()\n",
        "plt.title(\"Accuracy\")\n",
        "plt.show()"
      ],
      "execution_count": 13,
      "outputs": [
        {
          "output_type": "display_data",
          "data": {
            "image/png": "[encoded data removed]",
            "text/plain": [
              "<Figure size 432x288 with 1 Axes>"
            ]
          },
          "metadata": {
            "tags": []
          }
        },
        {
          "output_type": "display_data",
          "data": {
            "image/png": "[encoded data removed]",
            "text/plain": [
              "<Figure size 432x288 with 1 Axes>"
            ]
          },
          "metadata": {
            "tags": []
          }
        }
      ]
    },
    {
      "cell_type": "code",
      "metadata": {
        "id": "ERrq8iNgpusN",
        "colab_type": "code",
        "colab": {}
      },
      "source": [
        ""
      ],
      "execution_count": 0,
      "outputs": []
    },
    {
      "cell_type": "code",
      "metadata": {
        "id": "oclPDD8Ypuug",
        "colab_type": "code",
        "colab": {}
      },
      "source": [
        ""
      ],
      "execution_count": 0,
      "outputs": []
    },
    {
      "cell_type": "code",
      "metadata": {
        "id": "e3KURr-cpuw0",
        "colab_type": "code",
        "colab": {}
      },
      "source": [
        ""
      ],
      "execution_count": 0,
      "outputs": []
    }
  ]
}