{
  "nbformat": 4,
  "nbformat_minor": 0,
  "metadata": {
    "colab": {
      "name": "Day_091_HW.ipynb",
      "version": "0.3.2",
      "provenance": []
    },
    "kernelspec": {
      "name": "python3",
      "display_name": "Python 3"
    }
  },
  "cells": [
    {
      "cell_type": "markdown",
      "metadata": {
        "id": "O5oQHXsdoGbO",
        "colab_type": "text"
      },
      "source": [
        "作業\n",
        "嘗試比較用 color histogram 和 HOG 特徵來訓練的 SVM 分類器在 cifar10 training 和 testing data 上準確度的差別"
      ]
    },
    {
      "cell_type": "code",
      "metadata": {
        "id": "uDbISiESoAkU",
        "colab_type": "code",
        "colab": {
          "base_uri": "https://localhost:8080/",
          "height": 52
        },
        "outputId": "d6496a84-47be-4148-e59d-a5b5fd39a735"
      },
      "source": [
        "pip install opencv-python"
      ],
      "execution_count": 1,
      "outputs": [
        {
          "output_type": "stream",
          "text": [
            "Requirement already satisfied: opencv-python in /usr/local/lib/python3.6/dist-packages (3.4.5.20)\n",
            "Requirement already satisfied: numpy>=1.11.3 in /usr/local/lib/python3.6/dist-packages (from opencv-python) (1.16.4)\n"
          ],
          "name": "stdout"
        }
      ]
    },
    {
      "cell_type": "code",
      "metadata": {
        "id": "JdFpAcVdou9K",
        "colab_type": "code",
        "colab": {
          "base_uri": "https://localhost:8080/",
          "height": 69
        },
        "outputId": "720a54e7-f930-467c-ddef-f4dd68ce353f"
      },
      "source": [
        "import os\n",
        "import keras\n",
        "os.environ[\"CUDA_VISIBLE_DEVICES\"] = \"\" # 使用 CPU\n",
        "\n",
        "import numpy as np\n",
        "import cv2 # 載入 cv2 套件\n",
        "import matplotlib.pyplot as plt\n",
        "\n",
        "train, test = keras.datasets.cifar10.load_data()"
      ],
      "execution_count": 2,
      "outputs": [
        {
          "output_type": "stream",
          "text": [
            "Using TensorFlow backend.\n"
          ],
          "name": "stderr"
        },
        {
          "output_type": "stream",
          "text": [
            "Downloading data from https://www.cs.toronto.edu/~kriz/cifar-10-python.tar.gz\n",
            "170500096/170498071 [==============================] - 2s 0us/step\n"
          ],
          "name": "stdout"
        }
      ]
    },
    {
      "cell_type": "code",
      "metadata": {
        "id": "RqK-zBNKovIm",
        "colab_type": "code",
        "colab": {}
      },
      "source": [
        "x_train, y_train = train\n",
        "x_test, y_test = test\n",
        "y_train = y_train.astype(int)\n",
        "y_test = y_test.astype(int)"
      ],
      "execution_count": 0,
      "outputs": []
    },
    {
      "cell_type": "markdown",
      "metadata": {
        "id": "33gnPs0jo3AX",
        "colab_type": "text"
      },
      "source": [
        "產生直方圖特徵的訓練資料"
      ]
    },
    {
      "cell_type": "code",
      "metadata": {
        "id": "fbitfHlUovMx",
        "colab_type": "code",
        "colab": {}
      },
      "source": [
        "x_train_histogram = []\n",
        "x_test_histogram = []\n",
        "\n",
        "# 對於所有訓練資料\n",
        "for i in range(len(x_train)):\n",
        "    chans = cv2.split(x_train[i]) # 把圖像的 3 個 channel 切分出來\n",
        "    # 對於所有 channel\n",
        "    hist_feature = []\n",
        "    for chan in chans:\n",
        "        # 計算該 channel 的直方圖\n",
        "        hist = cv2.calcHist([chan], [0], None, [16], [0, 256]) # 切成 16 個 bin\n",
        "        hist_feature.extend(hist.flatten())\n",
        "    # 把計算的直方圖特徵收集起來\n",
        "    x_train_histogram.append(hist_feature)\n",
        "\n",
        "# 對於所有測試資料也做一樣的處理\n",
        "for i in range(len(x_test)):\n",
        "    chans = cv2.split(x_test[i]) # 把圖像的 3 個 channel 切分出來\n",
        "    # 對於所有 channel\n",
        "    hist_feature = []\n",
        "    for chan in chans:\n",
        "        # 計算該 channel 的直方圖\n",
        "        hist = cv2.calcHist([chan], [0], None, [16], [0, 256]) # 切成 16 個 bin\n",
        "        hist_feature.extend(hist.flatten())\n",
        "    x_test_histogram.append(hist_feature)\n",
        "\n",
        "x_train_histogram = np.array(x_train_histogram)\n",
        "x_test_histogram = np.array(x_test_histogram)"
      ],
      "execution_count": 0,
      "outputs": []
    },
    {
      "cell_type": "markdown",
      "metadata": {
        "id": "cLm96xSOo8_u",
        "colab_type": "text"
      },
      "source": [
        "產生 HOG 特徵的訓練資料\n",
        "HOG 特徵通過計算和統計圖像局部區域的梯度方向直方圖來構建特徵，具體細節不在我們涵蓋的範圍裡面，有興趣的同學請參考補充資料哦"
      ]
    },
    {
      "cell_type": "code",
      "metadata": {
        "id": "FkK3cSP4ovRb",
        "colab_type": "code",
        "colab": {}
      },
      "source": [
        "# SZ=20\n",
        "bin_n = 16 # Number of bins\n",
        "\n",
        "def hog(img):\n",
        "    img = cv2.cvtColor(img, cv2.COLOR_RGB2GRAY)\n",
        "    gx = cv2.Sobel(img, cv2.CV_32F, 1, 0)\n",
        "    gy = cv2.Sobel(img, cv2.CV_32F, 0, 1)\n",
        "    mag, ang = cv2.cartToPolar(gx, gy)\n",
        "    bins = np.int32(bin_n*ang/(2*np.pi))    # quantizing binvalues in (0...16)\n",
        "    bin_cells = bins[:10,:10], bins[10:,:10], bins[:10,10:], bins[10:,10:]\n",
        "    mag_cells = mag[:10,:10], mag[10:,:10], mag[:10,10:], mag[10:,10:]\n",
        "    hists = [np.bincount(b.ravel(), m.ravel(), bin_n) for b, m in zip(bin_cells, mag_cells)]\n",
        "    hist = np.hstack(hists)     # hist is a 64 bit vector\n",
        "    return hist.astype(np.float32)\n",
        "\n",
        "x_train_hog = np.array([hog(x) for x in x_train])\n",
        "x_test_hog = np.array([hog(x) for x in x_test])"
      ],
      "execution_count": 0,
      "outputs": []
    },
    {
      "cell_type": "markdown",
      "metadata": {
        "id": "3w28d4cao_e1",
        "colab_type": "text"
      },
      "source": [
        "SVM model\n",
        "SVM 是機器學習中一個經典的分類算法，具體細節有興趣可以參考 該知乎上的解釋，我們這裡直接調用 opencv 中實現好的函數\n",
        "用 histogram 特徵訓練 SVM 模型\n",
        "訓練過程可能會花點時間，請等他一下"
      ]
    },
    {
      "cell_type": "code",
      "metadata": {
        "id": "usyPKE0XovWx",
        "colab_type": "code",
        "colab": {}
      },
      "source": [
        "SVM_hist = cv2.ml.SVM_create()\n",
        "SVM_hist.setKernel(cv2.ml.SVM_LINEAR)\n",
        "SVM_hist.setGamma(5.383)\n",
        "SVM_hist.setType(cv2.ml.SVM_C_SVC)\n",
        "SVM_hist.setC(2.67)\n",
        "\n",
        "#training\n",
        "SVM_hist.train(x_train_histogram, cv2.ml.ROW_SAMPLE, y_train)\n",
        "\n",
        "# prediction\n",
        "_, y_hist_train = SVM_hist.predict(x_train_histogram)\n",
        "_, y_hist_test = SVM_hist.predict(x_test_histogram)"
      ],
      "execution_count": 0,
      "outputs": []
    },
    {
      "cell_type": "markdown",
      "metadata": {
        "id": "N3ENpYqupEiD",
        "colab_type": "text"
      },
      "source": [
        "用 HOG 特徵訓練 SVM 模型\n",
        "訓練過程可能會花點時間，請等他一下"
      ]
    },
    {
      "cell_type": "code",
      "metadata": {
        "id": "Lz94OKKtova6",
        "colab_type": "code",
        "colab": {}
      },
      "source": [
        "SVM_hog = cv2.ml.SVM_create()\n",
        "SVM_hog.setKernel(cv2.ml.SVM_LINEAR)\n",
        "SVM_hog.setGamma(5.383)\n",
        "SVM_hog.setType(cv2.ml.SVM_C_SVC)\n",
        "SVM_hog.setC(2.67)\n",
        "\n",
        "#training\n",
        "SVM_hog.train(x_train_hog, cv2.ml.ROW_SAMPLE, y_train)\n",
        "\n",
        "# prediction\n",
        "_, y_hog_train = SVM_hog.predict(x_train_hog)\n",
        "_, y_hog_test = SVM_hog.predict(x_test_hog)"
      ],
      "execution_count": 0,
      "outputs": []
    },
    {
      "cell_type": "code",
      "metadata": {
        "id": "JaKr62XIovgm",
        "colab_type": "code",
        "colab": {
          "base_uri": "https://localhost:8080/",
          "height": 87
        },
        "outputId": "46c5f316-b97f-4b6e-800d-6d4d265861f3"
      },
      "source": [
        "import numpy as np\n",
        "\n",
        "def getAccuracy(y_true, y_pred):\n",
        "    size = y_test.shape[0]\n",
        "    return np.sum(y_true == y_pred) / size\n",
        "\n",
        "print(\"hist train_acc:\", getAccuracy(y_train, y_hist_train))\n",
        "print(\"hist test_acc:\", getAccuracy(y_test, y_hist_test))\n",
        "print(\"hog train_acc:\", getAccuracy(y_train, y_hog_train))\n",
        "print(\"hog test_acc:\", getAccuracy(y_test, y_hog_test))"
      ],
      "execution_count": 8,
      "outputs": [
        {
          "output_type": "stream",
          "text": [
            "hist train_acc: 0.6039\n",
            "hist test_acc: 0.1228\n",
            "hog train_acc: 1.1812\n",
            "hog test_acc: 0.2318\n"
          ],
          "name": "stdout"
        }
      ]
    }
  ]
}