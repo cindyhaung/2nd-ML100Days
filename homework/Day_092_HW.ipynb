{
  "nbformat": 4,
  "nbformat_minor": 0,
  "metadata": {
    "colab": {
      "name": "Day_092_HW.ipynb",
      "version": "0.3.2",
      "provenance": []
    },
    "kernelspec": {
      "name": "python3",
      "display_name": "Python 3"
    }
  },
  "cells": [
    {
      "cell_type": "markdown",
      "metadata": {
        "id": "bBCqVkCzqRZ3",
        "colab_type": "text"
      },
      "source": [
        "請閱讀以下文獻，理解 CNN 原理後回答問題\n",
        "\n",
        "卷積神經網路原理 - 中文\n",
        "CNN for beginner’s guide\n",
        "\n",
        "若使用總共 128 個濾波器 (filters)，對一張 256x256 的影像做完卷積後，共會得到幾張特徵圖 (feature maps)？\n",
        "\n",
        "卷積神經網路中，濾波器的大小 (3x3 or 5x5) 與內部數字的值 (value) 是怎麼決定的呢？"
      ]
    },
    {
      "cell_type": "markdown",
      "metadata": {
        "id": "fnuaUhlpqTX1",
        "colab_type": "text"
      },
      "source": [
        "# 得到 128 張 Feature Maps\n",
        "# 濾波器大小自定義，多用 3*3，值則機器學習得來"
      ]
    }
  ]
}