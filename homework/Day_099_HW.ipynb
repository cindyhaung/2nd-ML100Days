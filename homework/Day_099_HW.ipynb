{
  "nbformat": 4,
  "nbformat_minor": 0,
  "metadata": {
    "colab": {
      "name": "Day_099_HW.ipynb",
      "version": "0.3.2",
      "provenance": [],
      "collapsed_sections": []
    },
    "kernelspec": {
      "name": "python3",
      "display_name": "Python 3"
    }
  },
  "cells": [
    {
      "cell_type": "code",
      "metadata": {
        "id": "Y6IPP0S_td7I",
        "colab_type": "code",
        "colab": {}
      },
      "source": [
        "from keras.datasets import cifar10\n",
        "from keras.preprocessing.image import ImageDataGenerator\n",
        "%matplotlib inline"
      ],
      "execution_count": 0,
      "outputs": []
    },
    {
      "cell_type": "code",
      "metadata": {
        "id": "BjuzOSN5vW3q",
        "colab_type": "code",
        "colab": {}
      },
      "source": [
        "# 此函數會幫我們把多張影像畫成一張多宮格圖\n",
        "def img_combine(img, ncols=8, size=1, path=False):\n",
        "    from math import ceil\n",
        "    import matplotlib.pyplot as plt\n",
        "    import numpy as np\n",
        "    nimg = len(img)\n",
        "    nrows = int(ceil(nimg/ncols))\n",
        "    fig, axes = plt.subplots(nrows=nrows, ncols=ncols, sharex=True, sharey=True, figsize=(ncols*size,nrows*size))\n",
        "    if nrows == 0:\n",
        "        return\n",
        "    elif ncols == 1:\n",
        "        for r, ax in zip(np.arange(nrows), axes):\n",
        "            nth=r\n",
        "            if nth < nimg:\n",
        "                ax.imshow(img[nth], cmap='rainbow', vmin=0, vmax=1)\n",
        "                \n",
        "            ax.set_axis_off()\n",
        "    elif nrows == 1:\n",
        "        for c, ax in zip(np.arange(ncols), axes):\n",
        "            nth=c\n",
        "            if nth < nimg:\n",
        "                ax.imshow(img[nth], cmap='rainbow', vmin=0, vmax=1)\n",
        "            ax.set_axis_off()\n",
        "    else:\n",
        "        for r, row in zip(np.arange(nrows), axes):\n",
        "            for c, ax in zip(np.arange(ncols), row):\n",
        "                nth=r*ncols+c\n",
        "                if nth < nimg:\n",
        "                    ax.imshow(img[nth], cmap='rainbow', vmin=0, vmax=1)\n",
        "                ax.set_axis_off()\n",
        "    plt.show()"
      ],
      "execution_count": 0,
      "outputs": []
    },
    {
      "cell_type": "code",
      "metadata": {
        "id": "f5AIJXr9vW58",
        "colab_type": "code",
        "colab": {}
      },
      "source": [
        "# 讀取 Cifar-10 資料集\n",
        "(x_train, y_train), (x_test, y_test) = cifar10.load_data()"
      ],
      "execution_count": 0,
      "outputs": []
    },
    {
      "cell_type": "code",
      "metadata": {
        "id": "WrbmAdNMvW8U",
        "colab_type": "code",
        "colab": {}
      },
      "source": [
        "# 取前 32 張圖片做視覺化\n",
        "images = x_train[:32]\n",
        "img_combine(images)"
      ],
      "execution_count": 0,
      "outputs": []
    },
    {
      "cell_type": "code",
      "metadata": {
        "id": "Vc0N-opWvcdK",
        "colab_type": "code",
        "colab": {}
      },
      "source": [
        "# 建立 ImageDataGenerator，並指定我們要做資料增強的數值範圍\n",
        "data_generator = ImageDataGenerator(\n",
        "    rotation_range=20,\n",
        "    width_shift_range=0.2,\n",
        "    height_shift_range=0.2,\n",
        "    horizontal_flip=True)"
      ],
      "execution_count": 0,
      "outputs": []
    },
    {
      "cell_type": "code",
      "metadata": {
        "id": "KlKeMRQOvcfM",
        "colab_type": "code",
        "colab": {}
      },
      "source": [
        "# 注意！！ ImageDataGenerator 是一個 Generator (生成器)! 對 Generator 不熟悉的同學請回到 Day098 做複習。\n",
        "# 使用 .flow 後，就會對我們的影像進行增強，再 call next 取出 generator 的圖像。(shuffle=False 因為我們希望圖像的順序不要改變，方便觀察。實際訓練時預設是 shuffle=True) \n",
        "augmented_iamges = next(data_generator.flow(images, shuffle=False))\n",
        "img_combine(augmented_iamges.astype(\"int\")) # 注意在訓練時神經網路時，圖像資料必須要是 float32，但在做視覺化時要轉為 int 才能順利畫圖。所以為了畫圖才把資料轉為 int"
      ],
      "execution_count": 0,
      "outputs": []
    },
    {
      "cell_type": "code",
      "metadata": {
        "id": "l_3JsndNvhhU",
        "colab_type": "code",
        "colab": {}
      },
      "source": [
        "# 因為隨機性的關係，所以一樣的圖像再經過一次 generator 後的結果不一定相同\n",
        "augmented_iamges = next(data_generator.flow(images, shuffle=False))\n",
        "img_combine(augmented_iamges.astype(\"int\"))"
      ],
      "execution_count": 0,
      "outputs": []
    },
    {
      "cell_type": "markdown",
      "metadata": {
        "id": "dfgyJJGivjrL",
        "colab_type": "text"
      },
      "source": [
        "作業\n",
        "\n",
        "請使用 ImageDataGenerator 來進行 Cifar-10 資料集的訓練，並觀察不同的圖像增強方法是否會顯著影響訓練結果"
      ]
    },
    {
      "cell_type": "code",
      "metadata": {
        "id": "I05netf-vhja",
        "colab_type": "code",
        "colab": {}
      },
      "source": [
        "import keras\n",
        "from keras.models import Sequential\n",
        "from keras.layers import Dense, Dropout, Activation, Flatten\n",
        "from keras.layers import Conv2D, MaxPooling2D\n",
        "from keras.optimizers import RMSprop, Adam"
      ],
      "execution_count": 0,
      "outputs": []
    },
    {
      "cell_type": "code",
      "metadata": {
        "id": "SVZ4pU6PvhmS",
        "colab_type": "code",
        "colab": {}
      },
      "source": [
        "\n",
        "(x_train, y_train), (x_test, y_test) = cifar10.load_data()\n",
        "print('x_train shape:', x_train.shape)\n",
        "print(x_train.shape[0], 'train samples')\n",
        "print(x_test.shape[0], 'test samples')\n",
        "x_train = x_train.astype('float32')\n",
        "x_test = x_test.astype('float32')\n",
        "x_train /= 255\n",
        "x_test /= 255\n",
        "\n",
        "# Convert class vectors to binary class matrices.\n",
        "y_train = keras.utils.to_categorical(y_train, 10)\n",
        "y_test = keras.utils.to_categorical(y_test, 10)"
      ],
      "execution_count": 0,
      "outputs": []
    },
    {
      "cell_type": "code",
      "metadata": {
        "id": "y2AVlONlvoN6",
        "colab_type": "code",
        "colab": {}
      },
      "source": [
        "def build_model():\n",
        "    model = Sequential()\n",
        "    model.add(Conv2D(32, (3, 3), padding='same',\n",
        "                     input_shape=x_train.shape[1:]))\n",
        "    model.add(Activation('relu'))\n",
        "    model.add(Conv2D(32, (3, 3)))\n",
        "    model.add(Activation('relu'))\n",
        "    model.add(MaxPooling2D(pool_size=(2, 2)))\n",
        "    model.add(Dropout(0.25))\n",
        "\n",
        "    model.add(Conv2D(64, (3, 3), padding='same'))\n",
        "    model.add(Activation('relu'))\n",
        "    model.add(Conv2D(64, (3, 3)))\n",
        "    model.add(Activation('relu'))\n",
        "    model.add(MaxPooling2D(pool_size=(2, 2)))\n",
        "    model.add(Dropout(0.25))\n",
        "\n",
        "    model.add(Flatten())\n",
        "    model.add(Dense(512))\n",
        "    model.add(Activation('relu'))\n",
        "    model.add(Dropout(0.5))\n",
        "    model.add(Dense(10))\n",
        "    model.add(Activation('softmax'))\n",
        "    model.summary()\n",
        "\n",
        "    model.compile(loss='categorical_crossentropy',\n",
        "                  optimizer=RMSprop(),\n",
        "                  metrics=['accuracy'])\n",
        "    return model"
      ],
      "execution_count": 0,
      "outputs": []
    },
    {
      "cell_type": "code",
      "metadata": {
        "id": "rrL_hOsgvoQL",
        "colab_type": "code",
        "colab": {}
      },
      "source": [
        "# whithout data augmentation\n",
        "\n",
        "batch_size = 100\n",
        "\n",
        "keras.backend.clear_session()\n",
        "\n",
        "model = build_model()\n",
        "\n",
        "model.fit(x_train, y_train,\n",
        "          epochs=10,\n",
        "          batch_size=batch_size,\n",
        "          verbose=1,\n",
        "          validation_data=(x_test, y_test))\n",
        "\n",
        "score = model.evaluate(x_test, y_test, verbose=0)\n",
        "print('Test loss:', score[0])\n",
        "print('Test accuracy:', score[1])"
      ],
      "execution_count": 0,
      "outputs": []
    },
    {
      "cell_type": "code",
      "metadata": {
        "id": "hCzs0YRJvoS0",
        "colab_type": "code",
        "colab": {}
      },
      "source": [
        "# with the augmentation hyperparameters in the example\n",
        "\n",
        "batch_size = 100\n",
        "\n",
        "keras.backend.clear_session()\n",
        "\n",
        "model = build_model()\n",
        "\n",
        "# 建立 ImageDataGenerator，並指定我們要做資料增強的數值範圍\n",
        "data_generator = ImageDataGenerator(\n",
        "    rotation_range=20,\n",
        "    width_shift_range=0.2,\n",
        "    height_shift_range=0.2,\n",
        "    horizontal_flip=True)\n",
        "\n",
        "model.fit_generator(data_generator.flow(x_train, y_train, batch_size), \n",
        "                    epochs=10, \n",
        "                    steps_per_epoch=x_train.shape[0] // batch_size,\n",
        "                    verbose=1, \n",
        "                    validation_data=(x_test, y_test))\n",
        "\n",
        "score = model.evaluate(x_test, y_test, verbose=0)\n",
        "print('Test loss:', score[0])\n",
        "print('Test accuracy:', score[1])"
      ],
      "execution_count": 0,
      "outputs": []
    },
    {
      "cell_type": "code",
      "metadata": {
        "id": "Tqq9EUvVvvqD",
        "colab_type": "code",
        "colab": {}
      },
      "source": [
        "# adjust rotation range and shift range\n",
        "\n",
        "batch_size = 100\n",
        "\n",
        "keras.backend.clear_session()\n",
        "\n",
        "model = build_model()\n",
        "\n",
        "# 建立 ImageDataGenerator，並指定我們要做資料增強的數值範圍\n",
        "data_generator = ImageDataGenerator(\n",
        "    rotation_range=30,\n",
        "    width_shift_range=0.1,\n",
        "    height_shift_range=0.1,\n",
        "    horizontal_flip=True)\n",
        "\n",
        "model.fit_generator(data_generator.flow(x_train, y_train, batch_size), \n",
        "                    epochs=10, \n",
        "                    steps_per_epoch=x_train.shape[0] // batch_size,\n",
        "                    verbose=1, \n",
        "                    validation_data=(x_test, y_test))\n",
        "\n",
        "score = model.evaluate(x_test, y_test, verbose=0)\n",
        "print('Test loss:', score[0])\n",
        "print('Test accuracy:', score[1])"
      ],
      "execution_count": 0,
      "outputs": []
    },
    {
      "cell_type": "code",
      "metadata": {
        "id": "p6AFeiEAvvsb",
        "colab_type": "code",
        "colab": {}
      },
      "source": [
        ""
      ],
      "execution_count": 0,
      "outputs": []
    },
    {
      "cell_type": "code",
      "metadata": {
        "id": "EpGXsAIVvvvs",
        "colab_type": "code",
        "colab": {}
      },
      "source": [
        ""
      ],
      "execution_count": 0,
      "outputs": []
    }
  ]
}